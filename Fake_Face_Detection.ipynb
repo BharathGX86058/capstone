{
 "cells": [
  {
   "cell_type": "code",
   "execution_count": 18,
   "id": "ec54aa14",
   "metadata": {},
   "outputs": [],
   "source": [
    "import tkinter as tk\n",
    "from tkinter import filedialog\n",
    "from PIL import Image, ImageTk\n",
    "import numpy as np\n",
    "from tensorflow.keras.models import load_model\n",
    "from mtcnn.mtcnn import MTCNN\n"
   ]
  },
  {
   "cell_type": "code",
   "execution_count": 19,
   "id": "9d54bae0",
   "metadata": {},
   "outputs": [],
   "source": [
    "\n",
    "# Load the pre-trained Fake Faces Detection model\n",
    "fake_faces_model = load_model(\"FakeFacesDetectionRGB.h5\")\n",
    "# Load the pre-trained MTCNN model\n",
    "mtcnn_model = MTCNN()\n"
   ]
  },
  {
   "cell_type": "code",
   "execution_count": 20,
   "id": "46f7daf7",
   "metadata": {},
   "outputs": [],
   "source": [
    "\n",
    "\n",
    "def detect_faces(image_path):\n",
    "    img = Image.open(image_path).convert(\"RGB\")\n",
    "    img_array = np.array(img)\n",
    "    faces = mtcnn_model.detect_faces(img_array)\n",
    "    return len(faces) > 0\n",
    "\n"
   ]
  },
  {
   "cell_type": "code",
   "execution_count": 21,
   "id": "26ed8178",
   "metadata": {},
   "outputs": [],
   "source": [
    "def classify_image():\n",
    "    file_path = filedialog.askopenfilename(title=\"Select Image\", filetypes=[(\"Image files\", \"*.png;*.jpg;*.jpeg\")])\n",
    "    if file_path:\n",
    "        # Detect faces\n",
    "        is_face = detect_faces(file_path)\n",
    "\n",
    "        # Display the uploaded image\n",
    "        img = Image.open(file_path).convert(\"RGB\").resize((128, 128))\n",
    "        photo = ImageTk.PhotoImage(img)\n",
    "        image_label.config(image=photo)\n",
    "        image_label.image = photo\n",
    "\n",
    "        if is_face:\n",
    "            # If a face is detected, run the old code\n",
    "            img_array = np.array(img) / 255.0\n",
    "            img_array = np.expand_dims(img_array, axis=0)\n",
    "            prediction = fake_faces_model.predict(img_array)\n",
    "            result_label.config(text=f\"Prediction: {'Real' if prediction[0][0] > 0.5 else 'Fake'}\")\n",
    "        else:\n",
    "            # If no face is detected, print a message\n",
    "            result_label.config(text=\"No face detected in the image\")\n",
    "\n"
   ]
  },
  {
   "cell_type": "code",
   "execution_count": 22,
   "id": "3a05efd5",
   "metadata": {},
   "outputs": [],
   "source": [
    "# Create the main Tkinter window\n",
    "root = tk.Tk()\n",
    "root.title(\"Image Classifier\")\n",
    "\n",
    "# Browse button to select an image\n",
    "browse_button = tk.Button(root, text=\"Browse Image\", command=classify_image)\n",
    "browse_button.pack(pady=10)\n",
    "\n",
    "image_label = tk.Label(root)\n",
    "image_label.pack()\n",
    "\n",
    "result_label = tk.Label(root, text=\"\")\n",
    "result_label.pack(pady=10)\n",
    "\n",
    "\n"
   ]
  },
  {
   "cell_type": "code",
   "execution_count": 23,
   "id": "6e730205",
   "metadata": {},
   "outputs": [
    {
     "name": "stdout",
     "output_type": "stream",
     "text": [
      "1/1 [==============================] - 0s 189ms/step\n",
      "1/1 [==============================] - 0s 136ms/step\n",
      "1/1 [==============================] - 0s 38ms/step\n",
      "1/1 [==============================] - 0s 32ms/step\n",
      "1/1 [==============================] - 0s 29ms/step\n",
      "1/1 [==============================] - 0s 24ms/step\n",
      "1/1 [==============================] - 0s 25ms/step\n",
      "1/1 [==============================] - 0s 32ms/step\n",
      "1/1 [==============================] - 0s 24ms/step\n",
      "1/1 [==============================] - 0s 25ms/step\n",
      "1/1 [==============================] - 0s 25ms/step\n",
      "1/1 [==============================] - 0s 24ms/step\n",
      "3/3 [==============================] - 0s 9ms/step\n"
     ]
    }
   ],
   "source": [
    "root.mainloop()"
   ]
  }
 ],
 "metadata": {
  "colab": {
   "provenance": []
  },
  "kernelspec": {
   "display_name": "Python 3 (ipykernel)",
   "language": "python",
   "name": "python3"
  },
  "language_info": {
   "codemirror_mode": {
    "name": "ipython",
    "version": 3
   },
   "file_extension": ".py",
   "mimetype": "text/x-python",
   "name": "python",
   "nbconvert_exporter": "python",
   "pygments_lexer": "ipython3",
   "version": "3.11.4"
  }
 },
 "nbformat": 4,
 "nbformat_minor": 5
}
