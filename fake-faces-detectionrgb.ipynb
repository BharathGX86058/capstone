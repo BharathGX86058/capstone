{
 "cells": [
  {
   "cell_type": "code",
   "execution_count": 1,
   "metadata": {
    "_cell_guid": "b1076dfc-b9ad-4769-8c92-a6c4dae69d19",
    "_uuid": "8f2839f25d086af736a60e9eeb907d3b93b6e0e5",
    "execution": {
     "iopub.execute_input": "2023-11-23T00:52:49.561472Z",
     "iopub.status.busy": "2023-11-23T00:52:49.561090Z",
     "iopub.status.idle": "2023-11-23T00:53:01.594906Z",
     "shell.execute_reply": "2023-11-23T00:53:01.594024Z",
     "shell.execute_reply.started": "2023-11-23T00:52:49.561435Z"
    }
   },
   "outputs": [],
   "source": [
    "import os\n",
    "import numpy as np\n",
    "from PIL import Image\n",
    "from sklearn.model_selection import train_test_split\n",
    "from sklearn.preprocessing import LabelEncoder\n",
    "from tensorflow.keras import layers, models, utils\n"
   ]
  },
  {
   "cell_type": "code",
   "execution_count": 2,
   "metadata": {
    "execution": {
     "iopub.execute_input": "2023-11-23T00:54:27.226518Z",
     "iopub.status.busy": "2023-11-23T00:54:27.226138Z",
     "iopub.status.idle": "2023-11-23T00:54:27.233142Z",
     "shell.execute_reply": "2023-11-23T00:54:27.232080Z",
     "shell.execute_reply.started": "2023-11-23T00:54:27.226488Z"
    }
   },
   "outputs": [],
   "source": [
    "def load_and_preprocess_images(folder_path, label):\n",
    "    images = []\n",
    "    labels = []\n",
    "\n",
    "    for img_name in os.listdir(folder_path):\n",
    "        img_path = os.path.join(folder_path, img_name)\n",
    "        img = Image.open(img_path).convert(\"RGB\")  # Load image as RGB\n",
    "        img_array = np.array(img)\n",
    "        img_array = img_array / 255.0  # Normalize pixel values to be between 0 and 1\n",
    "\n",
    "        images.append(img_array)\n",
    "        labels.append(label)\n",
    "        \n",
    "    return images, labels"
   ]
  },
  {
   "cell_type": "code",
   "execution_count": 9,
   "metadata": {
    "execution": {
     "iopub.execute_input": "2023-11-23T00:54:28.350030Z",
     "iopub.status.busy": "2023-11-23T00:54:28.349124Z",
     "iopub.status.idle": "2023-11-23T00:54:42.339715Z",
     "shell.execute_reply": "2023-11-23T00:54:42.338848Z",
     "shell.execute_reply.started": "2023-11-23T00:54:28.349995Z"
    }
   },
   "outputs": [],
   "source": [
    "real_images, real_labels = load_and_preprocess_images(\"/kaggle/input/facial-data/nvdia5000/nvdia5000\", label=\"real\")\n",
    "\n",
    "fake_images, fake_labels = load_and_preprocess_images(\"/kaggle/input/facial-data/synthetic5000/synthetic5000\", label=\"fake\")\n"
   ]
  },
  {
   "cell_type": "code",
   "execution_count": 10,
   "metadata": {
    "execution": {
     "iopub.execute_input": "2023-11-23T00:54:42.341517Z",
     "iopub.status.busy": "2023-11-23T00:54:42.341204Z",
     "iopub.status.idle": "2023-11-23T00:54:43.531924Z",
     "shell.execute_reply": "2023-11-23T00:54:43.530903Z",
     "shell.execute_reply.started": "2023-11-23T00:54:42.341490Z"
    }
   },
   "outputs": [],
   "source": [
    "all_images = np.array(real_images + fake_images)\n",
    "all_labels = real_labels + fake_labels"
   ]
  },
  {
   "cell_type": "code",
   "execution_count": 11,
   "metadata": {
    "execution": {
     "iopub.execute_input": "2023-11-23T00:54:43.533460Z",
     "iopub.status.busy": "2023-11-23T00:54:43.533140Z",
     "iopub.status.idle": "2023-11-23T00:54:43.541939Z",
     "shell.execute_reply": "2023-11-23T00:54:43.540991Z",
     "shell.execute_reply.started": "2023-11-23T00:54:43.533434Z"
    }
   },
   "outputs": [],
   "source": [
    "label_encoder = LabelEncoder()\n",
    "encoded_labels = label_encoder.fit_transform(all_labels)"
   ]
  },
  {
   "cell_type": "code",
   "execution_count": 12,
   "metadata": {
    "execution": {
     "iopub.execute_input": "2023-11-23T00:54:43.544531Z",
     "iopub.status.busy": "2023-11-23T00:54:43.543999Z",
     "iopub.status.idle": "2023-11-23T00:54:44.687295Z",
     "shell.execute_reply": "2023-11-23T00:54:44.686282Z",
     "shell.execute_reply.started": "2023-11-23T00:54:43.544504Z"
    }
   },
   "outputs": [],
   "source": [
    "X_train, X_test, y_train, y_test = train_test_split(\n",
    "    all_images, encoded_labels, test_size=0.2, random_state=42\n",
    ")\n"
   ]
  },
  {
   "cell_type": "code",
   "execution_count": 13,
   "metadata": {
    "execution": {
     "iopub.execute_input": "2023-11-23T00:54:44.689046Z",
     "iopub.status.busy": "2023-11-23T00:54:44.688669Z",
     "iopub.status.idle": "2023-11-23T00:54:46.017934Z",
     "shell.execute_reply": "2023-11-23T00:54:46.016881Z",
     "shell.execute_reply.started": "2023-11-23T00:54:44.689012Z"
    }
   },
   "outputs": [],
   "source": [
    "# Assuming X_train and X_test are lists of RGB images\n",
    "X_train_rgb = np.array(X_train).reshape(-1, 128, 128, 3)\n",
    "X_test_rgb = np.array(X_test).reshape(-1, 128, 128, 3)"
   ]
  },
  {
   "cell_type": "code",
   "execution_count": 14,
   "metadata": {
    "execution": {
     "iopub.execute_input": "2023-11-23T00:55:03.682419Z",
     "iopub.status.busy": "2023-11-23T00:55:03.681744Z",
     "iopub.status.idle": "2023-11-23T00:55:06.219188Z",
     "shell.execute_reply": "2023-11-23T00:55:06.218319Z",
     "shell.execute_reply.started": "2023-11-23T00:55:03.682386Z"
    }
   },
   "outputs": [],
   "source": [
    "from tensorflow.keras import layers, models\n",
    "\n",
    "model = models.Sequential()\n",
    "model.add(layers.Conv2D(32, (3, 3), activation=\"relu\", input_shape=(128, 128, 3)))\n",
    "model.add(layers.MaxPooling2D((2, 2)))\n",
    "model.add(layers.Conv2D(64, (3, 3), activation=\"relu\"))\n",
    "model.add(layers.MaxPooling2D((2, 2)))\n",
    "model.add(layers.Conv2D(64, (3, 3), activation=\"relu\"))\n",
    "model.add(layers.Flatten())\n",
    "model.add(layers.Dense(64, activation=\"relu\"))\n",
    "model.add(layers.Dense(1, activation=\"sigmoid\"))\n",
    "\n",
    "model.compile(optimizer=\"adam\", loss=\"binary_crossentropy\", metrics=[\"accuracy\"])\n"
   ]
  },
  {
   "cell_type": "code",
   "execution_count": 15,
   "metadata": {
    "execution": {
     "iopub.execute_input": "2023-11-23T00:55:14.347921Z",
     "iopub.status.busy": "2023-11-23T00:55:14.347158Z",
     "iopub.status.idle": "2023-11-23T00:55:14.360818Z",
     "shell.execute_reply": "2023-11-23T00:55:14.359802Z",
     "shell.execute_reply.started": "2023-11-23T00:55:14.347887Z"
    }
   },
   "outputs": [],
   "source": [
    "model.compile(optimizer=\"adam\", loss=\"binary_crossentropy\", metrics=[\"accuracy\"])"
   ]
  },
  {
   "cell_type": "code",
   "execution_count": 16,
   "metadata": {
    "execution": {
     "iopub.execute_input": "2023-11-23T00:55:16.957688Z",
     "iopub.status.busy": "2023-11-23T00:55:16.956790Z",
     "iopub.status.idle": "2023-11-23T00:55:16.962948Z",
     "shell.execute_reply": "2023-11-23T00:55:16.961818Z",
     "shell.execute_reply.started": "2023-11-23T00:55:16.957652Z"
    }
   },
   "outputs": [],
   "source": [
    "from tensorflow.keras.callbacks import EarlyStopping\n",
    "early_stopping = EarlyStopping(monitor='val_loss', patience=3, restore_best_weights=True)\n"
   ]
  },
  {
   "cell_type": "code",
   "execution_count": 17,
   "metadata": {
    "execution": {
     "iopub.execute_input": "2023-11-23T00:55:19.194115Z",
     "iopub.status.busy": "2023-11-23T00:55:19.193456Z",
     "iopub.status.idle": "2023-11-23T00:56:03.665906Z",
     "shell.execute_reply": "2023-11-23T00:56:03.665057Z",
     "shell.execute_reply.started": "2023-11-23T00:55:19.194086Z"
    }
   },
   "outputs": [
    {
     "name": "stdout",
     "output_type": "stream",
     "text": [
      "Epoch 1/10\n",
      "250/250 [==============================] - 13s 18ms/step - loss: 0.4335 - accuracy: 0.8108 - val_loss: 0.2634 - val_accuracy: 0.8890\n",
      "Epoch 2/10\n",
      "250/250 [==============================] - 3s 12ms/step - loss: 0.1986 - accuracy: 0.9234 - val_loss: 0.2955 - val_accuracy: 0.8595\n",
      "Epoch 3/10\n",
      "250/250 [==============================] - 3s 12ms/step - loss: 0.1397 - accuracy: 0.9469 - val_loss: 0.0902 - val_accuracy: 0.9660\n",
      "Epoch 4/10\n",
      "250/250 [==============================] - 3s 12ms/step - loss: 0.0765 - accuracy: 0.9724 - val_loss: 0.0938 - val_accuracy: 0.9635\n",
      "Epoch 5/10\n",
      "250/250 [==============================] - 3s 12ms/step - loss: 0.0575 - accuracy: 0.9783 - val_loss: 0.0948 - val_accuracy: 0.9675\n",
      "Epoch 6/10\n",
      "250/250 [==============================] - 3s 12ms/step - loss: 0.0550 - accuracy: 0.9800 - val_loss: 0.0444 - val_accuracy: 0.9845\n",
      "Epoch 7/10\n",
      "250/250 [==============================] - 3s 12ms/step - loss: 0.0201 - accuracy: 0.9934 - val_loss: 0.0616 - val_accuracy: 0.9795\n",
      "Epoch 8/10\n",
      "250/250 [==============================] - 3s 12ms/step - loss: 0.0654 - accuracy: 0.9790 - val_loss: 0.0672 - val_accuracy: 0.9775\n",
      "Epoch 9/10\n",
      "250/250 [==============================] - 3s 12ms/step - loss: 0.0184 - accuracy: 0.9935 - val_loss: 0.0293 - val_accuracy: 0.9910\n",
      "Epoch 10/10\n",
      "250/250 [==============================] - 3s 12ms/step - loss: 0.0091 - accuracy: 0.9966 - val_loss: 0.0246 - val_accuracy: 0.9915\n"
     ]
    }
   ],
   "source": [
    "history = model.fit(X_train, y_train, epochs=10, validation_data=(X_test, y_test), callbacks=[early_stopping])"
   ]
  },
  {
   "cell_type": "code",
   "execution_count": 18,
   "metadata": {
    "execution": {
     "iopub.execute_input": "2023-11-23T00:56:07.330532Z",
     "iopub.status.busy": "2023-11-23T00:56:07.330160Z",
     "iopub.status.idle": "2023-11-23T00:56:14.426441Z",
     "shell.execute_reply": "2023-11-23T00:56:14.425537Z",
     "shell.execute_reply.started": "2023-11-23T00:56:07.330502Z"
    }
   },
   "outputs": [
    {
     "name": "stdout",
     "output_type": "stream",
     "text": [
      "250/250 [==============================] - 2s 6ms/step - loss: 0.0031 - accuracy: 0.9994\n"
     ]
    }
   ],
   "source": [
    "train_loss, train_acc = model.evaluate(X_train, y_train)"
   ]
  },
  {
   "cell_type": "code",
   "execution_count": 19,
   "metadata": {
    "execution": {
     "iopub.execute_input": "2023-11-23T00:56:16.239250Z",
     "iopub.status.busy": "2023-11-23T00:56:16.238469Z",
     "iopub.status.idle": "2023-11-23T00:56:17.934596Z",
     "shell.execute_reply": "2023-11-23T00:56:17.933598Z",
     "shell.execute_reply.started": "2023-11-23T00:56:16.239219Z"
    }
   },
   "outputs": [
    {
     "name": "stdout",
     "output_type": "stream",
     "text": [
      "63/63 [==============================] - 0s 6ms/step - loss: 0.0246 - accuracy: 0.9915\n"
     ]
    }
   ],
   "source": [
    "test_loss, test_acc = model.evaluate(X_test, y_test)"
   ]
  },
  {
   "cell_type": "code",
   "execution_count": 20,
   "metadata": {
    "execution": {
     "iopub.execute_input": "2023-11-23T00:56:20.898679Z",
     "iopub.status.busy": "2023-11-23T00:56:20.897940Z",
     "iopub.status.idle": "2023-11-23T00:56:20.903378Z",
     "shell.execute_reply": "2023-11-23T00:56:20.902321Z",
     "shell.execute_reply.started": "2023-11-23T00:56:20.898646Z"
    }
   },
   "outputs": [
    {
     "name": "stdout",
     "output_type": "stream",
     "text": [
      "8000\n"
     ]
    }
   ],
   "source": [
    "print(len(X_train))"
   ]
  },
  {
   "cell_type": "code",
   "execution_count": 21,
   "metadata": {
    "execution": {
     "iopub.execute_input": "2023-11-23T00:56:23.788394Z",
     "iopub.status.busy": "2023-11-23T00:56:23.787622Z",
     "iopub.status.idle": "2023-11-23T00:56:24.118135Z",
     "shell.execute_reply": "2023-11-23T00:56:24.117127Z",
     "shell.execute_reply.started": "2023-11-23T00:56:23.788357Z"
    }
   },
   "outputs": [
    {
     "data": {
      "image/png": "[encoded data removed]",
      "text/plain": [
       "<Figure size 640x480 with 1 Axes>"
      ]
     },
     "metadata": {},
     "output_type": "display_data"
    }
   ],
   "source": [
    "import matplotlib.pyplot as plt\n",
    "\n",
    "\n",
    "# Extract training and validation loss from the history\n",
    "train_loss = history.history['loss']\n",
    "val_loss = history.history['val_loss']\n",
    "\n",
    "# Plotting the training and validation loss\n",
    "epochs = range(1, len(train_loss) + 1)\n",
    "plt.plot(epochs, train_loss, 'bo-', label='Training Loss')\n",
    "plt.plot(epochs, val_loss, 'ro-', label='Validation Loss')\n",
    "\n",
    "# Adding labels and title\n",
    "plt.xlabel('Epochs')\n",
    "plt.ylabel('Loss')\n",
    "plt.title('Training and Validation Loss Over Epochs')\n",
    "\n",
    "# Adding a legend\n",
    "plt.legend()\n",
    "\n",
    "# Display the plot\n",
    "plt.show()\n"
   ]
  },
  {
   "cell_type": "code",
   "execution_count": 22,
   "metadata": {
    "execution": {
     "iopub.execute_input": "2023-11-23T00:56:29.917946Z",
     "iopub.status.busy": "2023-11-23T00:56:29.917166Z",
     "iopub.status.idle": "2023-11-23T00:56:29.922804Z",
     "shell.execute_reply": "2023-11-23T00:56:29.921833Z",
     "shell.execute_reply.started": "2023-11-23T00:56:29.917912Z"
    }
   },
   "outputs": [
    {
     "name": "stdout",
     "output_type": "stream",
     "text": [
      "Train Accuracy: 0.9993749856948853\n",
      "Test Accuracy: 0.9915000200271606\n"
     ]
    }
   ],
   "source": [
    "print(f\"Train Accuracy: {train_acc}\")\n",
    "print(f\"Test Accuracy: {test_acc}\")\n"
   ]
  },
  {
   "cell_type": "code",
   "execution_count": 23,
   "metadata": {
    "execution": {
     "iopub.execute_input": "2023-11-23T00:56:31.257367Z",
     "iopub.status.busy": "2023-11-23T00:56:31.256989Z",
     "iopub.status.idle": "2023-11-23T00:56:37.376054Z",
     "shell.execute_reply": "2023-11-23T00:56:37.375147Z",
     "shell.execute_reply.started": "2023-11-23T00:56:31.257322Z"
    }
   },
   "outputs": [
    {
     "name": "stdout",
     "output_type": "stream",
     "text": [
      "250/250 [==============================] - 1s 4ms/step\n"
     ]
    }
   ],
   "source": [
    "y_train_pred = model.predict(X_train)\n",
    "y_train_pred_binary = np.round(y_train_pred).astype(int)\n"
   ]
  },
  {
   "cell_type": "code",
   "execution_count": 24,
   "metadata": {
    "execution": {
     "iopub.execute_input": "2023-11-23T00:56:40.689521Z",
     "iopub.status.busy": "2023-11-23T00:56:40.689114Z",
     "iopub.status.idle": "2023-11-23T00:56:40.697926Z",
     "shell.execute_reply": "2023-11-23T00:56:40.696811Z",
     "shell.execute_reply.started": "2023-11-23T00:56:40.689488Z"
    }
   },
   "outputs": [
    {
     "name": "stderr",
     "output_type": "stream",
     "text": [
      "/opt/conda/lib/python3.10/site-packages/sklearn/preprocessing/_label.py:155: DataConversionWarning: A column-vector y was passed when a 1d array was expected. Please change the shape of y to (n_samples, ), for example using ravel().\n",
      "  y = column_or_1d(y, warn=True)\n"
     ]
    }
   ],
   "source": [
    "y_train_original = label_encoder.inverse_transform(y_train)\n",
    "y_train_pred_original = label_encoder.inverse_transform(y_train_pred_binary)\n"
   ]
  },
  {
   "cell_type": "code",
   "execution_count": 25,
   "metadata": {
    "execution": {
     "iopub.execute_input": "2023-11-23T00:56:41.819727Z",
     "iopub.status.busy": "2023-11-23T00:56:41.819356Z",
     "iopub.status.idle": "2023-11-23T00:56:43.472674Z",
     "shell.execute_reply": "2023-11-23T00:56:43.471595Z",
     "shell.execute_reply.started": "2023-11-23T00:56:41.819697Z"
    }
   },
   "outputs": [
    {
     "name": "stdout",
     "output_type": "stream",
     "text": [
      "63/63 [==============================] - 0s 4ms/step\n"
     ]
    },
    {
     "name": "stderr",
     "output_type": "stream",
     "text": [
      "/opt/conda/lib/python3.10/site-packages/sklearn/preprocessing/_label.py:155: DataConversionWarning: A column-vector y was passed when a 1d array was expected. Please change the shape of y to (n_samples, ), for example using ravel().\n",
      "  y = column_or_1d(y, warn=True)\n"
     ]
    }
   ],
   "source": [
    "y_pred = model.predict(X_test)\n",
    "y_pred_binary = np.round(y_pred).astype(int)\n",
    "\n",
    "# Convert numerical labels back to original labels\n",
    "y_test_original = label_encoder.inverse_transform(y_test)\n",
    "y_pred_original = label_encoder.inverse_transform(y_pred_binary)\n"
   ]
  },
  {
   "cell_type": "code",
   "execution_count": 26,
   "metadata": {
    "execution": {
     "iopub.execute_input": "2023-11-23T00:56:43.875160Z",
     "iopub.status.busy": "2023-11-23T00:56:43.874779Z",
     "iopub.status.idle": "2023-11-23T00:56:44.026390Z",
     "shell.execute_reply": "2023-11-23T00:56:44.025376Z",
     "shell.execute_reply.started": "2023-11-23T00:56:43.875130Z"
    }
   },
   "outputs": [
    {
     "name": "stdout",
     "output_type": "stream",
     "text": [
      "Train Classification Report:\n",
      "              precision    recall  f1-score   support\n",
      "\n",
      "        fake       1.00      1.00      1.00      4012\n",
      "        real       1.00      1.00      1.00      3988\n",
      "\n",
      "    accuracy                           1.00      8000\n",
      "   macro avg       1.00      1.00      1.00      8000\n",
      "weighted avg       1.00      1.00      1.00      8000\n",
      "\n",
      "Train Confusion Matrix:\n",
      "[[4008    4]\n",
      " [   1 3987]]\n"
     ]
    }
   ],
   "source": [
    "from sklearn.metrics import classification_report, confusion_matrix\n",
    "\n",
    "print(\"Train Classification Report:\")\n",
    "print(classification_report(y_train_original, y_train_pred_original))\n",
    "\n",
    "\n",
    "print(\"Train Confusion Matrix:\")\n",
    "print(confusion_matrix(y_train_original, y_train_pred_original))\n",
    "\n",
    "train_cm = cm = confusion_matrix(y_train_original, y_train_pred_original)\n"
   ]
  },
  {
   "cell_type": "code",
   "execution_count": 27,
   "metadata": {
    "execution": {
     "iopub.execute_input": "2023-11-23T00:56:48.173398Z",
     "iopub.status.busy": "2023-11-23T00:56:48.172716Z",
     "iopub.status.idle": "2023-11-23T00:56:48.218192Z",
     "shell.execute_reply": "2023-11-23T00:56:48.217216Z",
     "shell.execute_reply.started": "2023-11-23T00:56:48.173362Z"
    }
   },
   "outputs": [
    {
     "name": "stdout",
     "output_type": "stream",
     "text": [
      "Test Classification Report:\n",
      "              precision    recall  f1-score   support\n",
      "\n",
      "        fake       0.99      0.99      0.99       988\n",
      "        real       0.99      0.99      0.99      1012\n",
      "\n",
      "    accuracy                           0.99      2000\n",
      "   macro avg       0.99      0.99      0.99      2000\n",
      "weighted avg       0.99      0.99      0.99      2000\n",
      "\n",
      "TestConfusion Matrix:\n",
      "[[ 980    8]\n",
      " [   9 1003]]\n"
     ]
    }
   ],
   "source": [
    "\n",
    "print(\"Test Classification Report:\")\n",
    "print(classification_report(y_test_original, y_pred_original))\n",
    "\n",
    "# Generate a confusion matrix\n",
    "print(\"TestConfusion Matrix:\")\n",
    "print(confusion_matrix(y_test_original, y_pred_original))\n",
    "\n",
    "test_cm = confusion_matrix(y_test_original, y_pred_original)\n"
   ]
  },
  {
   "cell_type": "code",
   "execution_count": 28,
   "metadata": {
    "execution": {
     "iopub.execute_input": "2023-11-23T00:56:56.970500Z",
     "iopub.status.busy": "2023-11-23T00:56:56.970143Z",
     "iopub.status.idle": "2023-11-23T00:56:57.068162Z",
     "shell.execute_reply": "2023-11-23T00:56:57.067197Z",
     "shell.execute_reply.started": "2023-11-23T00:56:56.970472Z"
    }
   },
   "outputs": [
    {
     "name": "stderr",
     "output_type": "stream",
     "text": [
      "/opt/conda/lib/python3.10/site-packages/keras/src/engine/training.py:3000: UserWarning: You are saving your model as an HDF5 file via `model.save()`. This file format is considered legacy. We recommend using instead the native Keras format, e.g. `model.save('my_model.keras')`.\n",
      "  saving_api.save_model(\n"
     ]
    }
   ],
   "source": [
    "# Save the entire model to a HDF5 file\n",
    "model.save(\"FakeFacesDetectionRGB.h5\")\n",
    "\n"
   ]
  },
  {
   "cell_type": "code",
   "execution_count": null,
   "metadata": {},
   "outputs": [],
   "source": []
  }
 ],
 "metadata": {
  "kernelspec": {
   "display_name": "Python 3 (ipykernel)",
   "language": "python",
   "name": "python3"
  },
  "language_info": {
   "codemirror_mode": {
    "name": "ipython",
    "version": 3
   },
   "file_extension": ".py",
   "mimetype": "text/x-python",
   "name": "python",
   "nbconvert_exporter": "python",
   "pygments_lexer": "ipython3",
   "version": "3.11.4"
  }
 },
 "nbformat": 4,
 "nbformat_minor": 4
}
